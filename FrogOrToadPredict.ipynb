{
  "nbformat": 4,
  "nbformat_minor": 0,
  "metadata": {
    "colab": {
      "name": "FrogOrToadPredict.ipynb",
      "provenance": [],
      "collapsed_sections": [],
      "authorship_tag": "ABX9TyPJEr5Su5SiUivL1AadJJBj",
      "include_colab_link": true
    },
    "kernelspec": {
      "name": "python3",
      "display_name": "Python 3"
    },
    "language_info": {
      "name": "python"
    },
    "widgets": {
      "application/vnd.jupyter.widget-state+json": {
        "c1ffdfb8c45243319c595ebd58fda2e4": {
          "model_module": "@jupyter-widgets/controls",
          "model_name": "FileUploadModel",
          "model_module_version": "1.5.0",
          "state": {
            "_counter": 1,
            "_dom_classes": [],
            "_model_module": "@jupyter-widgets/controls",
            "_model_module_version": "1.5.0",
            "_model_name": "FileUploadModel",
            "_view_count": null,
            "_view_module": "@jupyter-widgets/controls",
            "_view_module_version": "1.5.0",
            "_view_name": "FileUploadView",
            "accept": "",
            "button_style": "",
            "data": [
              null
            ],
            "description": "Upload",
            "description_tooltip": null,
            "disabled": false,
            "error": "",
            "icon": "upload",
            "layout": "IPY_MODEL_cb449d60817f41aa9b34f90f691442fa",
            "metadata": [
              {
                "name": "frog1.jpeg",
                "type": "image/jpeg",
                "size": 29479,
                "lastModified": 1649437297389
              }
            ],
            "multiple": false,
            "style": "IPY_MODEL_346eb002cd3249378e6686a9c99f1445"
          }
        },
        "cb449d60817f41aa9b34f90f691442fa": {
          "model_module": "@jupyter-widgets/base",
          "model_name": "LayoutModel",
          "model_module_version": "1.2.0",
          "state": {
            "_model_module": "@jupyter-widgets/base",
            "_model_module_version": "1.2.0",
            "_model_name": "LayoutModel",
            "_view_count": null,
            "_view_module": "@jupyter-widgets/base",
            "_view_module_version": "1.2.0",
            "_view_name": "LayoutView",
            "align_content": null,
            "align_items": null,
            "align_self": null,
            "border": null,
            "bottom": null,
            "display": null,
            "flex": null,
            "flex_flow": null,
            "grid_area": null,
            "grid_auto_columns": null,
            "grid_auto_flow": null,
            "grid_auto_rows": null,
            "grid_column": null,
            "grid_gap": null,
            "grid_row": null,
            "grid_template_areas": null,
            "grid_template_columns": null,
            "grid_template_rows": null,
            "height": null,
            "justify_content": null,
            "justify_items": null,
            "left": null,
            "margin": null,
            "max_height": null,
            "max_width": null,
            "min_height": null,
            "min_width": null,
            "object_fit": null,
            "object_position": null,
            "order": null,
            "overflow": null,
            "overflow_x": null,
            "overflow_y": null,
            "padding": null,
            "right": null,
            "top": null,
            "visibility": null,
            "width": null
          }
        },
        "346eb002cd3249378e6686a9c99f1445": {
          "model_module": "@jupyter-widgets/controls",
          "model_name": "ButtonStyleModel",
          "model_module_version": "1.5.0",
          "state": {
            "_model_module": "@jupyter-widgets/controls",
            "_model_module_version": "1.5.0",
            "_model_name": "ButtonStyleModel",
            "_view_count": null,
            "_view_module": "@jupyter-widgets/base",
            "_view_module_version": "1.2.0",
            "_view_name": "StyleView",
            "button_color": null,
            "font_weight": ""
          }
        },
        "fb3fd45b70284fe980371fdb1c95431a": {
          "model_module": "@jupyter-widgets/controls",
          "model_name": "ButtonModel",
          "model_module_version": "1.5.0",
          "state": {
            "_dom_classes": [],
            "_model_module": "@jupyter-widgets/controls",
            "_model_module_version": "1.5.0",
            "_model_name": "ButtonModel",
            "_view_count": null,
            "_view_module": "@jupyter-widgets/controls",
            "_view_module_version": "1.5.0",
            "_view_name": "ButtonView",
            "button_style": "",
            "description": "Predict Frog or Toad",
            "disabled": false,
            "icon": "",
            "layout": "IPY_MODEL_68b901efc5544f148ee958bdc44e6512",
            "style": "IPY_MODEL_5b67479ae1c7458b9ae26a18b61e9499",
            "tooltip": ""
          }
        },
        "68b901efc5544f148ee958bdc44e6512": {
          "model_module": "@jupyter-widgets/base",
          "model_name": "LayoutModel",
          "model_module_version": "1.2.0",
          "state": {
            "_model_module": "@jupyter-widgets/base",
            "_model_module_version": "1.2.0",
            "_model_name": "LayoutModel",
            "_view_count": null,
            "_view_module": "@jupyter-widgets/base",
            "_view_module_version": "1.2.0",
            "_view_name": "LayoutView",
            "align_content": null,
            "align_items": null,
            "align_self": null,
            "border": null,
            "bottom": null,
            "display": null,
            "flex": null,
            "flex_flow": null,
            "grid_area": null,
            "grid_auto_columns": null,
            "grid_auto_flow": null,
            "grid_auto_rows": null,
            "grid_column": null,
            "grid_gap": null,
            "grid_row": null,
            "grid_template_areas": null,
            "grid_template_columns": null,
            "grid_template_rows": null,
            "height": null,
            "justify_content": null,
            "justify_items": null,
            "left": null,
            "margin": null,
            "max_height": null,
            "max_width": null,
            "min_height": null,
            "min_width": null,
            "object_fit": null,
            "object_position": null,
            "order": null,
            "overflow": null,
            "overflow_x": null,
            "overflow_y": null,
            "padding": null,
            "right": null,
            "top": null,
            "visibility": null,
            "width": null
          }
        },
        "5b67479ae1c7458b9ae26a18b61e9499": {
          "model_module": "@jupyter-widgets/controls",
          "model_name": "ButtonStyleModel",
          "model_module_version": "1.5.0",
          "state": {
            "_model_module": "@jupyter-widgets/controls",
            "_model_module_version": "1.5.0",
            "_model_name": "ButtonStyleModel",
            "_view_count": null,
            "_view_module": "@jupyter-widgets/base",
            "_view_module_version": "1.2.0",
            "_view_name": "StyleView",
            "button_color": null,
            "font_weight": ""
          }
        },
        "c3149d25e07a49cf95e4da5cac1bd207": {
          "model_module": "@jupyter-widgets/output",
          "model_name": "OutputModel",
          "model_module_version": "1.0.0",
          "state": {
            "_dom_classes": [],
            "_model_module": "@jupyter-widgets/output",
            "_model_module_version": "1.0.0",
            "_model_name": "OutputModel",
            "_view_count": null,
            "_view_module": "@jupyter-widgets/output",
            "_view_module_version": "1.0.0",
            "_view_name": "OutputView",
            "layout": "IPY_MODEL_54d195ea92a54d7aa23bb98d242afe74",
            "msg_id": "",
            "outputs": [
              {
                "output_type": "display_data",
                "data": {
                  "text/plain": "<PIL.Image.Image image mode=RGB size=128x85 at 0x7F3E227D1510>",
                  "image/png": "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\n"
                },
                "metadata": {}
              }
            ]
          }
        },
        "54d195ea92a54d7aa23bb98d242afe74": {
          "model_module": "@jupyter-widgets/base",
          "model_name": "LayoutModel",
          "model_module_version": "1.2.0",
          "state": {
            "_model_module": "@jupyter-widgets/base",
            "_model_module_version": "1.2.0",
            "_model_name": "LayoutModel",
            "_view_count": null,
            "_view_module": "@jupyter-widgets/base",
            "_view_module_version": "1.2.0",
            "_view_name": "LayoutView",
            "align_content": null,
            "align_items": null,
            "align_self": null,
            "border": null,
            "bottom": null,
            "display": null,
            "flex": null,
            "flex_flow": null,
            "grid_area": null,
            "grid_auto_columns": null,
            "grid_auto_flow": null,
            "grid_auto_rows": null,
            "grid_column": null,
            "grid_gap": null,
            "grid_row": null,
            "grid_template_areas": null,
            "grid_template_columns": null,
            "grid_template_rows": null,
            "height": null,
            "justify_content": null,
            "justify_items": null,
            "left": null,
            "margin": null,
            "max_height": null,
            "max_width": null,
            "min_height": null,
            "min_width": null,
            "object_fit": null,
            "object_position": null,
            "order": null,
            "overflow": null,
            "overflow_x": null,
            "overflow_y": null,
            "padding": null,
            "right": null,
            "top": null,
            "visibility": null,
            "width": null
          }
        },
        "3cfe491cfd4a41f7b106c59cd114a432": {
          "model_module": "@jupyter-widgets/controls",
          "model_name": "LabelModel",
          "model_module_version": "1.5.0",
          "state": {
            "_dom_classes": [],
            "_model_module": "@jupyter-widgets/controls",
            "_model_module_version": "1.5.0",
            "_model_name": "LabelModel",
            "_view_count": null,
            "_view_module": "@jupyter-widgets/controls",
            "_view_module_version": "1.5.0",
            "_view_name": "LabelView",
            "description": "",
            "description_tooltip": null,
            "layout": "IPY_MODEL_cf61ec692ce94670a674534e44f1f1f6",
            "placeholder": "​",
            "style": "IPY_MODEL_888abe9c0e74422784fe32671ccf528e",
            "value": "Prediction: frog; Probability: 0.9836"
          }
        },
        "cf61ec692ce94670a674534e44f1f1f6": {
          "model_module": "@jupyter-widgets/base",
          "model_name": "LayoutModel",
          "model_module_version": "1.2.0",
          "state": {
            "_model_module": "@jupyter-widgets/base",
            "_model_module_version": "1.2.0",
            "_model_name": "LayoutModel",
            "_view_count": null,
            "_view_module": "@jupyter-widgets/base",
            "_view_module_version": "1.2.0",
            "_view_name": "LayoutView",
            "align_content": null,
            "align_items": null,
            "align_self": null,
            "border": null,
            "bottom": null,
            "display": null,
            "flex": null,
            "flex_flow": null,
            "grid_area": null,
            "grid_auto_columns": null,
            "grid_auto_flow": null,
            "grid_auto_rows": null,
            "grid_column": null,
            "grid_gap": null,
            "grid_row": null,
            "grid_template_areas": null,
            "grid_template_columns": null,
            "grid_template_rows": null,
            "height": null,
            "justify_content": null,
            "justify_items": null,
            "left": null,
            "margin": null,
            "max_height": null,
            "max_width": null,
            "min_height": null,
            "min_width": null,
            "object_fit": null,
            "object_position": null,
            "order": null,
            "overflow": null,
            "overflow_x": null,
            "overflow_y": null,
            "padding": null,
            "right": null,
            "top": null,
            "visibility": null,
            "width": null
          }
        },
        "888abe9c0e74422784fe32671ccf528e": {
          "model_module": "@jupyter-widgets/controls",
          "model_name": "DescriptionStyleModel",
          "model_module_version": "1.5.0",
          "state": {
            "_model_module": "@jupyter-widgets/controls",
            "_model_module_version": "1.5.0",
            "_model_name": "DescriptionStyleModel",
            "_view_count": null,
            "_view_module": "@jupyter-widgets/base",
            "_view_module_version": "1.2.0",
            "_view_name": "StyleView",
            "description_width": ""
          }
        }
      }
    }
  },
  "cells": [
    {
      "cell_type": "markdown",
      "metadata": {
        "id": "view-in-github",
        "colab_type": "text"
      },
      "source": [
        "<a href=\"https://colab.research.google.com/github/johnbradley/FrogOrToad/blob/main/FrogOrToadPredict.ipynb\" target=\"_parent\"><img src=\"https://colab.research.google.com/assets/colab-badge.svg\" alt=\"Open In Colab\"/></a>"
      ]
    },
    {
      "cell_type": "markdown",
      "source": [
        "# Frog or Toad\n",
        "\n",
        "**Predicts if an uploaded image is a Frog or Toad.**\n",
        "\n",
        "Run all the cells.\n",
        "\n",
        "Click the [Upload] button, choose an Image.\n",
        "\n",
        "Click the [Predict Frog or Toad] button.\n",
        "\n",
        "See a thumbnail of your image and prediction."
      ],
      "metadata": {
        "id": "hk7bTqWoXmca"
      }
    },
    {
      "cell_type": "code",
      "execution_count": null,
      "metadata": {
        "id": "Gtw3rYNvIOGx"
      },
      "outputs": [],
      "source": [
        "!pip install --upgrade fastbook"
      ]
    },
    {
      "cell_type": "code",
      "source": [
        "from fastbook import *\n",
        "from fastai.vision.widgets import *\n",
        "import urllib.request\n",
        "import shutil"
      ],
      "metadata": {
        "id": "WgAZ4SnzGEb2"
      },
      "execution_count": 16,
      "outputs": []
    },
    {
      "cell_type": "code",
      "source": [
        "model_url = 'https://github.com/johnbradley/FrogOrToad/releases/download/1.0.0/model1.pkl'\n",
        "model_path = \"model.pkl\""
      ],
      "metadata": {
        "id": "qY_vuBH1JAhx"
      },
      "execution_count": 17,
      "outputs": []
    },
    {
      "cell_type": "code",
      "source": [
        "# Download model file\n",
        "with urllib.request.urlopen(model_url) as response:\n",
        "    with open(model_path, 'wb') as outfile:\n",
        "        shutil.copyfileobj(response, outfile)"
      ],
      "metadata": {
        "id": "H8DrgHehAxUx"
      },
      "execution_count": 18,
      "outputs": []
    },
    {
      "cell_type": "code",
      "source": [
        "# Load model file\n",
        "learn_inf = load_learner(model_path)"
      ],
      "metadata": {
        "id": "gZG4QtAWBRaX"
      },
      "execution_count": 19,
      "outputs": []
    },
    {
      "cell_type": "code",
      "source": [
        "# Create upload button\n",
        "btn_upload = widgets.FileUpload(multiple=False)\n",
        "\n",
        "# Button to run prediction\n",
        "btn_run = widgets.Button(description='Predict Frog or Toad')\n",
        "\n",
        "# Image to show uploaded file\n",
        "out_pl = widgets.Output()\n",
        "out_pl.clear_output()\n",
        "\n",
        "# Results Label\n",
        "lbl_pred = widgets.Label()\n",
        "lbl_pred.value = ''\n",
        "\n",
        "# Setup event handler for \"Predict Frog or Toad\" button\n",
        "def on_predict(change):\n",
        "    if btn_upload.data:\n",
        "        img = PILImage.create(btn_upload.data[-1])\n",
        "        out_pl.clear_output()\n",
        "        with out_pl: display(img.to_thumb(128,128))\n",
        "        pred,pred_idx,probs = learn_inf.predict(img)\n",
        "        lbl_pred.value = f'Prediction: {pred}; Probability: {probs[pred_idx]:.04f}'\n",
        "\n",
        "btn_run.on_click(on_predict)"
      ],
      "metadata": {
        "id": "jcUngJ6hBfvl"
      },
      "execution_count": 20,
      "outputs": []
    },
    {
      "cell_type": "code",
      "source": [
        "btn_upload"
      ],
      "metadata": {
        "colab": {
          "base_uri": "https://localhost:8080/",
          "height": 49,
          "referenced_widgets": [
            "c1ffdfb8c45243319c595ebd58fda2e4",
            "cb449d60817f41aa9b34f90f691442fa",
            "346eb002cd3249378e6686a9c99f1445"
          ]
        },
        "id": "IzQjdTWECQm3",
        "outputId": "c49918cd-7a2a-48cb-a2e2-ac11980774ae"
      },
      "execution_count": 21,
      "outputs": [
        {
          "output_type": "display_data",
          "data": {
            "text/plain": [
              "FileUpload(value={}, description='Upload')"
            ],
            "application/vnd.jupyter.widget-view+json": {
              "version_major": 2,
              "version_minor": 0,
              "model_id": "c1ffdfb8c45243319c595ebd58fda2e4"
            }
          },
          "metadata": {}
        }
      ]
    },
    {
      "cell_type": "code",
      "source": [
        "btn_run"
      ],
      "metadata": {
        "colab": {
          "base_uri": "https://localhost:8080/",
          "height": 49,
          "referenced_widgets": [
            "fb3fd45b70284fe980371fdb1c95431a",
            "68b901efc5544f148ee958bdc44e6512",
            "5b67479ae1c7458b9ae26a18b61e9499"
          ]
        },
        "id": "oXBYh_bSCXwm",
        "outputId": "3111be06-9873-4584-891b-849013b3d4fd"
      },
      "execution_count": 22,
      "outputs": [
        {
          "output_type": "display_data",
          "data": {
            "text/plain": [
              "Button(description='Predict Frog or Toad', style=ButtonStyle())"
            ],
            "application/vnd.jupyter.widget-view+json": {
              "version_major": 2,
              "version_minor": 0,
              "model_id": "fb3fd45b70284fe980371fdb1c95431a"
            }
          },
          "metadata": {}
        },
        {
          "output_type": "display_data",
          "data": {
            "text/plain": [
              "<IPython.core.display.HTML object>"
            ],
            "text/html": [
              "\n",
              "<style>\n",
              "    /* Turns off some styling */\n",
              "    progress {\n",
              "        /* gets rid of default border in Firefox and Opera. */\n",
              "        border: none;\n",
              "        /* Needs to be in here for Safari polyfill so background images work as expected. */\n",
              "        background-size: auto;\n",
              "    }\n",
              "    .progress-bar-interrupted, .progress-bar-interrupted::-webkit-progress-bar {\n",
              "        background: #F44336;\n",
              "    }\n",
              "</style>\n"
            ]
          },
          "metadata": {}
        },
        {
          "output_type": "display_data",
          "data": {
            "text/plain": [
              "<IPython.core.display.HTML object>"
            ],
            "text/html": [
              ""
            ]
          },
          "metadata": {}
        }
      ]
    },
    {
      "cell_type": "code",
      "source": [
        "out_pl"
      ],
      "metadata": {
        "colab": {
          "base_uri": "https://localhost:8080/",
          "height": 102,
          "referenced_widgets": [
            "c3149d25e07a49cf95e4da5cac1bd207",
            "54d195ea92a54d7aa23bb98d242afe74"
          ]
        },
        "id": "ALZ8QkfxGqeU",
        "outputId": "ff93489f-9dd2-4063-d794-03c704988470"
      },
      "execution_count": 23,
      "outputs": [
        {
          "output_type": "display_data",
          "data": {
            "text/plain": [
              "Output()"
            ],
            "application/vnd.jupyter.widget-view+json": {
              "version_major": 2,
              "version_minor": 0,
              "model_id": "c3149d25e07a49cf95e4da5cac1bd207"
            }
          },
          "metadata": {}
        }
      ]
    },
    {
      "cell_type": "code",
      "source": [
        "lbl_pred"
      ],
      "metadata": {
        "colab": {
          "base_uri": "https://localhost:8080/",
          "height": 49,
          "referenced_widgets": [
            "3cfe491cfd4a41f7b106c59cd114a432",
            "cf61ec692ce94670a674534e44f1f1f6",
            "888abe9c0e74422784fe32671ccf528e"
          ]
        },
        "id": "WXi8l97oEpZT",
        "outputId": "a4e09200-9a97-4add-e67b-bda06bd25ce8"
      },
      "execution_count": 24,
      "outputs": [
        {
          "output_type": "display_data",
          "data": {
            "text/plain": [
              "Label(value='')"
            ],
            "application/vnd.jupyter.widget-view+json": {
              "version_major": 2,
              "version_minor": 0,
              "model_id": "3cfe491cfd4a41f7b106c59cd114a432"
            }
          },
          "metadata": {}
        }
      ]
    },
    {
      "cell_type": "code",
      "source": [
        ""
      ],
      "metadata": {
        "id": "ryGf14gpHRQC"
      },
      "execution_count": 24,
      "outputs": []
    }
  ]
}
